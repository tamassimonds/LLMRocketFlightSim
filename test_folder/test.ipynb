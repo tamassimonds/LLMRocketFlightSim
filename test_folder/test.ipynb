{
 "cells": [
  {
   "cell_type": "code",
   "execution_count": 16,
   "metadata": {},
   "outputs": [
    {
     "name": "stdout",
     "output_type": "stream",
     "text": [
      "Package             Version     Editable project location\n",
      "------------------- ----------- -----------------------------------------------\n",
      "aiohappyeyeballs    2.6.1\n",
      "aiohttp             3.11.15\n",
      "aiosignal           1.3.2\n",
      "annotated-types     0.7.0\n",
      "anthropic           0.49.0\n",
      "anyio               4.9.0\n",
      "appnope             0.1.4\n",
      "asttokens           3.0.0\n",
      "async-timeout       5.0.1\n",
      "attrs               25.3.0\n",
      "certifi             2025.1.31\n",
      "cftime              1.6.4.post1\n",
      "charset-normalizer  3.4.1\n",
      "comm                0.2.2\n",
      "contourpy           1.3.0\n",
      "cycler              0.12.1\n",
      "debugpy             1.8.13\n",
      "decorator           5.2.1\n",
      "dill                0.3.9\n",
      "distro              1.9.0\n",
      "exceptiongroup      1.2.2\n",
      "executing           2.2.0\n",
      "fonttools           4.56.0\n",
      "frozenlist          1.5.0\n",
      "h11                 0.14.0\n",
      "httpcore            1.0.7\n",
      "httpx               0.28.1\n",
      "idna                3.10\n",
      "importlib_metadata  8.6.1\n",
      "importlib_resources 6.5.2\n",
      "ipykernel           6.29.5\n",
      "ipython             8.18.1\n",
      "jedi                0.19.2\n",
      "jiter               0.9.0\n",
      "jupyter_client      8.6.3\n",
      "jupyter_core        5.7.2\n",
      "kiwisolver          1.4.7\n",
      "matplotlib          3.9.4\n",
      "matplotlib-inline   0.1.7\n",
      "multidict           6.3.0\n",
      "nest-asyncio        1.6.0\n",
      "netCDF4             1.7.2\n",
      "numpy               2.0.2\n",
      "openai              1.70.0\n",
      "packaging           24.2\n",
      "pandas              2.2.3\n",
      "parso               0.8.4\n",
      "pexpect             4.9.0\n",
      "pillow              11.1.0\n",
      "pip                 25.0.1\n",
      "platformdirs        4.3.7\n",
      "prompt_toolkit      3.0.50\n",
      "propcache           0.3.1\n",
      "psutil              7.0.0\n",
      "ptyprocess          0.7.0\n",
      "pure_eval           0.2.3\n",
      "pydantic            2.11.1\n",
      "pydantic_core       2.33.0\n",
      "Pygments            2.19.1\n",
      "pyparsing           3.2.3\n",
      "python-dateutil     2.9.0.post0\n",
      "pytz                2025.2\n",
      "pyzmq               26.3.0\n",
      "requests            2.32.3\n",
      "rocket_package      0.1.0       /Users/tamassimonds/Documents/Code/Ai/RocketEnv\n",
      "rocketpy            1.9.0\n",
      "scipy               1.13.1\n",
      "setuptools          58.0.4\n",
      "simplekml           1.3.6\n",
      "six                 1.17.0\n",
      "sniffio             1.3.1\n",
      "stack-data          0.6.3\n",
      "tabulate            0.9.0\n",
      "tornado             6.4.2\n",
      "tqdm                4.67.1\n",
      "traitlets           5.14.3\n",
      "typing_extensions   4.13.0\n",
      "typing-inspection   0.4.0\n",
      "tzdata              2025.2\n",
      "urllib3             2.3.0\n",
      "wcwidth             0.2.13\n",
      "yarl                1.18.3\n",
      "zipp                3.21.0\n"
     ]
    }
   ],
   "source": [
    "!pip list\n",
    "\n"
   ]
  },
  {
   "cell_type": "code",
   "execution_count": null,
   "metadata": {},
   "outputs": [],
   "source": []
  },
  {
   "cell_type": "code",
   "execution_count": 18,
   "metadata": {},
   "outputs": [
    {
     "name": "stdout",
     "output_type": "stream",
     "text": [
      "Extracting configuration from LLM response...\n",
      "Unexpected error: asyncio.run() cannot be called from a running event loop\n"
     ]
    },
    {
     "name": "stderr",
     "output_type": "stream",
     "text": [
      "Traceback (most recent call last):\n",
      "  File \"/Users/tamassimonds/Documents/Code/Ai/RocketEnv/rocket_package/rocket_interface.py\", line 249, in process_llm_response\n",
      "    results = asyncio.run(\n",
      "  File \"/Library/Developer/CommandLineTools/Library/Frameworks/Python3.framework/Versions/3.9/lib/python3.9/asyncio/runners.py\", line 33, in run\n",
      "    raise RuntimeError(\n",
      "RuntimeError: asyncio.run() cannot be called from a running event loop\n",
      "/Users/tamassimonds/Documents/Code/Ai/RocketEnv/rocket_package/rocket_interface.py:282: RuntimeWarning: coroutine 'wait_for' was never awaited\n",
      "  return {\n",
      "RuntimeWarning: Enable tracemalloc to get the object allocation traceback\n",
      "/Users/tamassimonds/Documents/Code/Ai/RocketEnv/rocket_package/rocket_interface.py:282: RuntimeWarning: coroutine 'simulate_from_config' was never awaited\n",
      "  return {\n",
      "RuntimeWarning: Enable tracemalloc to get the object allocation traceback\n"
     ]
    },
    {
     "ename": "KeyError",
     "evalue": "'simple_results'",
     "output_type": "error",
     "traceback": [
      "\u001b[0;31m---------------------------------------------------------------------------\u001b[0m",
      "\u001b[0;31mKeyError\u001b[0m                                  Traceback (most recent call last)",
      "Cell \u001b[0;32mIn[18], line 141\u001b[0m\n\u001b[1;32m    138\u001b[0m reward \u001b[38;5;241m=\u001b[39m \u001b[38;5;241m0\u001b[39m\n\u001b[1;32m    139\u001b[0m target_apogee \u001b[38;5;241m=\u001b[39m \u001b[38;5;241m1000\u001b[39m\n\u001b[0;32m--> 141\u001b[0m \u001b[38;5;28;01mif\u001b[39;00m \u001b[43mresponse\u001b[49m\u001b[43m[\u001b[49m\u001b[38;5;124;43m'\u001b[39;49m\u001b[38;5;124;43msimple_results\u001b[39;49m\u001b[38;5;124;43m'\u001b[39;49m\u001b[43m]\u001b[49m:\n\u001b[1;32m    142\u001b[0m     reward \u001b[38;5;241m+\u001b[39m\u001b[38;5;241m=\u001b[39m \u001b[38;5;241m0.05\u001b[39m \u001b[38;5;66;03m#compiled so here's some reward\u001b[39;00m\n\u001b[1;32m    144\u001b[0m distance_reward \u001b[38;5;241m=\u001b[39m exp(\u001b[38;5;241m-\u001b[39m\u001b[38;5;28mabs\u001b[39m(response[\u001b[38;5;124m'\u001b[39m\u001b[38;5;124msimple_results\u001b[39m\u001b[38;5;124m'\u001b[39m][\u001b[38;5;124m\"\u001b[39m\u001b[38;5;124mapogee\u001b[39m\u001b[38;5;124m\"\u001b[39m] \u001b[38;5;241m-\u001b[39m target_apogee) \u001b[38;5;241m/\u001b[39m (target_apogee\u001b[38;5;241m*\u001b[39m\u001b[38;5;241m0.1\u001b[39m))\n",
      "\u001b[0;31mKeyError\u001b[0m: 'simple_results'"
     ]
    }
   ],
   "source": []
  }
 ],
 "metadata": {
  "kernelspec": {
   "display_name": "myenv",
   "language": "python",
   "name": "python3"
  },
  "language_info": {
   "codemirror_mode": {
    "name": "ipython",
    "version": 3
   },
   "file_extension": ".py",
   "mimetype": "text/x-python",
   "name": "python",
   "nbconvert_exporter": "python",
   "pygments_lexer": "ipython3",
   "version": "3.9.6"
  }
 },
 "nbformat": 4,
 "nbformat_minor": 2
}
